{
 "cells": [
  {
   "cell_type": "markdown",
   "id": "15ebc146",
   "metadata": {},
   "source": [
    "# Online Shoppers Purchasing Intention\n",
    "\n",
    "Data source: [UCI Machine Learning Repository](https://archive.ics.uci.edu/ml/datasets/Online+Shoppers+Purchasing+Intention+Dataset)\n",
    "\n",
    "## Description\n",
    "The dataset consists of feature vectors belonging to 12,330 sessions. The dataset was formed so that each session would belong to a different user in a 1-year period to avoid any tendency to a specific campaign, special day, user profile, or period.\n",
    "\n",
    "## Attributes\n",
    "The dataset consists of 10 numerical and 8 categorical attributes. The 'Revenue' attribute can be used as the class label.\n",
    "\n",
    "* \"Administrative\", \"Administrative Duration\", \"Informational\", \"Informational Duration\", \"Product Related\" and \"Product Related Duration\" represent the number of different types of pages visited by the visitor in that session and total time spent in each of these page categories. The values of these features are derived from the URL information of the pages visited by the user and updated in real time when a user takes an action, e.g. moving from one page to another. \n",
    "* The \"Bounce Rate\", \"Exit Rate\" and \"Page Value\" features represent the metrics measured by \"Google Analytics\" for each page in the e-commerce site. The value of \"Bounce Rate\" feature for a web page refers to the percentage of visitors who enter the site from that page and then leave (\"bounce\") without triggering any other requests to the analytics server during that session. The value of \"Exit Rate\" feature for a specific web page is calculated as for all pageviews to the page, the percentage that were the last in the session. \n",
    "* The \"Page Value\" feature represents the average value for a web page that a user visited before completing an e-commerce transaction. \n",
    "* The \"Special Day\" feature indicates the closeness of the site visiting time to a specific special day (e.g. Mother’s Day, Valentine's Day) in which the sessions are more likely to be finalized with transaction. The value of this attribute is determined by considering the dynamics of e-commerce such as the duration between the order date and delivery date. For example, for Valentine’s day, this value takes a nonzero value between February 2 and February 12, zero before and after this date unless it is close to another special day, and its maximum value of 1 on February 8. \n",
    "* The dataset also includes operating system, browser, region, traffic type, visitor type as returning or new visitor, a Boolean value indicating whether the date of the visit is weekend, and month of the year."
   ]
  },
  {
   "cell_type": "code",
   "execution_count": 1,
   "id": "93a7749c",
   "metadata": {},
   "outputs": [],
   "source": [
    "#load libraries\n",
    "import pandas as pd\n",
    "import seaborn as sns\n",
    "import matplotlib.pyplot as plt"
   ]
  },
  {
   "cell_type": "code",
   "execution_count": 2,
   "id": "5e7dbf7b",
   "metadata": {},
   "outputs": [
    {
     "data": {
      "text/html": [
       "<div>\n",
       "<style scoped>\n",
       "    .dataframe tbody tr th:only-of-type {\n",
       "        vertical-align: middle;\n",
       "    }\n",
       "\n",
       "    .dataframe tbody tr th {\n",
       "        vertical-align: top;\n",
       "    }\n",
       "\n",
       "    .dataframe thead th {\n",
       "        text-align: right;\n",
       "    }\n",
       "</style>\n",
       "<table border=\"1\" class=\"dataframe\">\n",
       "  <thead>\n",
       "    <tr style=\"text-align: right;\">\n",
       "      <th></th>\n",
       "      <th>Administrative</th>\n",
       "      <th>Administrative_Duration</th>\n",
       "      <th>Informational</th>\n",
       "      <th>Informational_Duration</th>\n",
       "      <th>ProductRelated</th>\n",
       "      <th>ProductRelated_Duration</th>\n",
       "      <th>BounceRates</th>\n",
       "      <th>ExitRates</th>\n",
       "      <th>PageValues</th>\n",
       "      <th>SpecialDay</th>\n",
       "      <th>Month</th>\n",
       "      <th>OperatingSystems</th>\n",
       "      <th>Browser</th>\n",
       "      <th>Region</th>\n",
       "      <th>TrafficType</th>\n",
       "      <th>VisitorType</th>\n",
       "      <th>Weekend</th>\n",
       "      <th>Revenue</th>\n",
       "    </tr>\n",
       "  </thead>\n",
       "  <tbody>\n",
       "    <tr>\n",
       "      <th>0</th>\n",
       "      <td>0</td>\n",
       "      <td>0.0</td>\n",
       "      <td>0</td>\n",
       "      <td>0.0</td>\n",
       "      <td>1</td>\n",
       "      <td>0.000000</td>\n",
       "      <td>0.20</td>\n",
       "      <td>0.20</td>\n",
       "      <td>0.0</td>\n",
       "      <td>0.0</td>\n",
       "      <td>Feb</td>\n",
       "      <td>1</td>\n",
       "      <td>1</td>\n",
       "      <td>1</td>\n",
       "      <td>1</td>\n",
       "      <td>Returning_Visitor</td>\n",
       "      <td>False</td>\n",
       "      <td>False</td>\n",
       "    </tr>\n",
       "    <tr>\n",
       "      <th>1</th>\n",
       "      <td>0</td>\n",
       "      <td>0.0</td>\n",
       "      <td>0</td>\n",
       "      <td>0.0</td>\n",
       "      <td>2</td>\n",
       "      <td>64.000000</td>\n",
       "      <td>0.00</td>\n",
       "      <td>0.10</td>\n",
       "      <td>0.0</td>\n",
       "      <td>0.0</td>\n",
       "      <td>Feb</td>\n",
       "      <td>2</td>\n",
       "      <td>2</td>\n",
       "      <td>1</td>\n",
       "      <td>2</td>\n",
       "      <td>Returning_Visitor</td>\n",
       "      <td>False</td>\n",
       "      <td>False</td>\n",
       "    </tr>\n",
       "    <tr>\n",
       "      <th>2</th>\n",
       "      <td>0</td>\n",
       "      <td>0.0</td>\n",
       "      <td>0</td>\n",
       "      <td>0.0</td>\n",
       "      <td>1</td>\n",
       "      <td>0.000000</td>\n",
       "      <td>0.20</td>\n",
       "      <td>0.20</td>\n",
       "      <td>0.0</td>\n",
       "      <td>0.0</td>\n",
       "      <td>Feb</td>\n",
       "      <td>4</td>\n",
       "      <td>1</td>\n",
       "      <td>9</td>\n",
       "      <td>3</td>\n",
       "      <td>Returning_Visitor</td>\n",
       "      <td>False</td>\n",
       "      <td>False</td>\n",
       "    </tr>\n",
       "    <tr>\n",
       "      <th>3</th>\n",
       "      <td>0</td>\n",
       "      <td>0.0</td>\n",
       "      <td>0</td>\n",
       "      <td>0.0</td>\n",
       "      <td>2</td>\n",
       "      <td>2.666667</td>\n",
       "      <td>0.05</td>\n",
       "      <td>0.14</td>\n",
       "      <td>0.0</td>\n",
       "      <td>0.0</td>\n",
       "      <td>Feb</td>\n",
       "      <td>3</td>\n",
       "      <td>2</td>\n",
       "      <td>2</td>\n",
       "      <td>4</td>\n",
       "      <td>Returning_Visitor</td>\n",
       "      <td>False</td>\n",
       "      <td>False</td>\n",
       "    </tr>\n",
       "    <tr>\n",
       "      <th>4</th>\n",
       "      <td>0</td>\n",
       "      <td>0.0</td>\n",
       "      <td>0</td>\n",
       "      <td>0.0</td>\n",
       "      <td>10</td>\n",
       "      <td>627.500000</td>\n",
       "      <td>0.02</td>\n",
       "      <td>0.05</td>\n",
       "      <td>0.0</td>\n",
       "      <td>0.0</td>\n",
       "      <td>Feb</td>\n",
       "      <td>3</td>\n",
       "      <td>3</td>\n",
       "      <td>1</td>\n",
       "      <td>4</td>\n",
       "      <td>Returning_Visitor</td>\n",
       "      <td>True</td>\n",
       "      <td>False</td>\n",
       "    </tr>\n",
       "  </tbody>\n",
       "</table>\n",
       "</div>"
      ],
      "text/plain": [
       "   Administrative  Administrative_Duration  Informational  \\\n",
       "0               0                      0.0              0   \n",
       "1               0                      0.0              0   \n",
       "2               0                      0.0              0   \n",
       "3               0                      0.0              0   \n",
       "4               0                      0.0              0   \n",
       "\n",
       "   Informational_Duration  ProductRelated  ProductRelated_Duration  \\\n",
       "0                     0.0               1                 0.000000   \n",
       "1                     0.0               2                64.000000   \n",
       "2                     0.0               1                 0.000000   \n",
       "3                     0.0               2                 2.666667   \n",
       "4                     0.0              10               627.500000   \n",
       "\n",
       "   BounceRates  ExitRates  PageValues  SpecialDay Month  OperatingSystems  \\\n",
       "0         0.20       0.20         0.0         0.0   Feb                 1   \n",
       "1         0.00       0.10         0.0         0.0   Feb                 2   \n",
       "2         0.20       0.20         0.0         0.0   Feb                 4   \n",
       "3         0.05       0.14         0.0         0.0   Feb                 3   \n",
       "4         0.02       0.05         0.0         0.0   Feb                 3   \n",
       "\n",
       "   Browser  Region  TrafficType        VisitorType  Weekend  Revenue  \n",
       "0        1       1            1  Returning_Visitor    False    False  \n",
       "1        2       1            2  Returning_Visitor    False    False  \n",
       "2        1       9            3  Returning_Visitor    False    False  \n",
       "3        2       2            4  Returning_Visitor    False    False  \n",
       "4        3       1            4  Returning_Visitor     True    False  "
      ]
     },
     "execution_count": 2,
     "metadata": {},
     "output_type": "execute_result"
    }
   ],
   "source": [
    "#read data\n",
    "df = pd.read_csv('online_shoppers_intention.csv')\n",
    "df.head()"
   ]
  },
  {
   "cell_type": "code",
   "execution_count": 3,
   "id": "57a465ae",
   "metadata": {},
   "outputs": [
    {
     "name": "stdout",
     "output_type": "stream",
     "text": [
      "<class 'pandas.core.frame.DataFrame'>\n",
      "RangeIndex: 12330 entries, 0 to 12329\n",
      "Data columns (total 18 columns):\n",
      " #   Column                   Non-Null Count  Dtype  \n",
      "---  ------                   --------------  -----  \n",
      " 0   Administrative           12330 non-null  int64  \n",
      " 1   Administrative_Duration  12330 non-null  float64\n",
      " 2   Informational            12330 non-null  int64  \n",
      " 3   Informational_Duration   12330 non-null  float64\n",
      " 4   ProductRelated           12330 non-null  int64  \n",
      " 5   ProductRelated_Duration  12330 non-null  float64\n",
      " 6   BounceRates              12330 non-null  float64\n",
      " 7   ExitRates                12330 non-null  float64\n",
      " 8   PageValues               12330 non-null  float64\n",
      " 9   SpecialDay               12330 non-null  float64\n",
      " 10  Month                    12330 non-null  object \n",
      " 11  OperatingSystems         12330 non-null  int64  \n",
      " 12  Browser                  12330 non-null  int64  \n",
      " 13  Region                   12330 non-null  int64  \n",
      " 14  TrafficType              12330 non-null  int64  \n",
      " 15  VisitorType              12330 non-null  object \n",
      " 16  Weekend                  12330 non-null  bool   \n",
      " 17  Revenue                  12330 non-null  bool   \n",
      "dtypes: bool(2), float64(7), int64(7), object(2)\n",
      "memory usage: 1.5+ MB\n"
     ]
    }
   ],
   "source": [
    "#view dataset info\n",
    "df.info()"
   ]
  },
  {
   "cell_type": "markdown",
   "id": "4f4681ad",
   "metadata": {},
   "source": [
    "* There are 12330 rows and 17 columns. \n",
    "* Weekend and Revenue are represented as boolean. \n",
    "* None of the rows have missing values"
   ]
  },
  {
   "cell_type": "code",
   "execution_count": 5,
   "id": "d35f7963",
   "metadata": {},
   "outputs": [
    {
     "data": {
      "text/plain": [
       "Administrative     27\n",
       "Informational      17\n",
       "ProductRelated    311\n",
       "dtype: int64"
      ]
     },
     "execution_count": 5,
     "metadata": {},
     "output_type": "execute_result"
    }
   ],
   "source": [
    "#unique values in the different types of pages\n",
    "df[[\"Administrative\", \"Informational\", \"ProductRelated\"]].nunique()"
   ]
  },
  {
   "cell_type": "code",
   "execution_count": 6,
   "id": "9bf7307a",
   "metadata": {},
   "outputs": [
    {
     "data": {
      "text/plain": [
       "0     5768\n",
       "1     1354\n",
       "2     1114\n",
       "3      915\n",
       "4      765\n",
       "5      575\n",
       "6      432\n",
       "7      338\n",
       "8      287\n",
       "9      225\n",
       "10     153\n",
       "11     105\n",
       "12      86\n",
       "13      56\n",
       "14      44\n",
       "15      38\n",
       "16      24\n",
       "17      16\n",
       "18      12\n",
       "19       6\n",
       "24       4\n",
       "22       4\n",
       "23       3\n",
       "21       2\n",
       "20       2\n",
       "27       1\n",
       "26       1\n",
       "Name: Administrative, dtype: int64"
      ]
     },
     "execution_count": 6,
     "metadata": {},
     "output_type": "execute_result"
    }
   ],
   "source": [
    "#values in administrative\n",
    "df['Administrative'].value_counts()"
   ]
  },
  {
   "cell_type": "markdown",
   "id": "4bd65fb2",
   "metadata": {},
   "source": [
    "## Visualize Relationships"
   ]
  },
  {
   "cell_type": "code",
   "execution_count": 7,
   "id": "3441efef",
   "metadata": {},
   "outputs": [
    {
     "data": {
      "image/png": "[encoded data removed]",
      "text/plain": [
       "<Figure size 1080x720 with 16 Axes>"
      ]
     },
     "metadata": {
      "needs_background": "light"
     },
     "output_type": "display_data"
    }
   ],
   "source": [
    "#plot all columns for univariate analysis\n",
    "df.hist(figsize=(15,10))\n",
    "\n",
    "plt.show()"
   ]
  },
  {
   "cell_type": "markdown",
   "id": "58be83bc",
   "metadata": {},
   "source": [
    "* Most columns have right skewed distributions: most customer activity tends more towards zero"
   ]
  },
  {
   "cell_type": "code",
   "execution_count": 13,
   "id": "eb593799",
   "metadata": {},
   "outputs": [
    {
     "data": {
      "text/plain": [
       "Text(0, 0.5, 'Number of visits')"
      ]
     },
     "execution_count": 13,
     "metadata": {},
     "output_type": "execute_result"
    },
    {
     "data": {
      "image/png": "[encoded data removed]",
      "text/plain": [
       "<Figure size 432x288 with 1 Axes>"
      ]
     },
     "metadata": {
      "needs_background": "light"
     },
     "output_type": "display_data"
    }
   ],
   "source": [
    "#plot monthly activity comparing revenues\n",
    "available_months=['Feb','Mar','May','June','Jul','Aug','Sep','Oct','Nov','Dec']\n",
    "#set order with available months\n",
    "pd.crosstab(df.Month,df.Revenue).loc[available_months].plot(kind='bar',stacked=True)\n",
    "\n",
    "plt.title('Revenue page visit by Month')\n",
    "plt.ylabel('Number of visits')"
   ]
  },
  {
   "cell_type": "markdown",
   "id": "f45907d9",
   "metadata": {},
   "source": [
    "November saw the most revenue page visits, followed by May.\n",
    "Are there special offers in November and perhaps May that drive purchases? Campaigns during Thanksgiving?"
   ]
  },
  {
   "cell_type": "code",
   "execution_count": 14,
   "id": "4ec4e5ff",
   "metadata": {},
   "outputs": [
    {
     "data": {
      "text/plain": [
       "Text(0, 0.5, 'Number of visits')"
      ]
     },
     "execution_count": 14,
     "metadata": {},
     "output_type": "execute_result"
    },
    {
     "data": {
      "image/png": "[encoded data removed]",
      "text/plain": [
       "<Figure size 432x288 with 1 Axes>"
      ]
     },
     "metadata": {
      "needs_background": "light"
     },
     "output_type": "display_data"
    }
   ],
   "source": [
    "#plot weekend revenue distribution\n",
    "pd.crosstab(df.Weekend.map({True:'Weekend',False:'Weekday'}),df.Revenue).plot(kind='bar',stacked=True)\n",
    "\n",
    "plt.title('Revenue page visit by Weekend')\n",
    "plt.ylabel('Number of visits')"
   ]
  },
  {
   "cell_type": "markdown",
   "id": "e3c5ac38",
   "metadata": {},
   "source": [
    "Weekends yield fewer revenue page visits compared to weekdays."
   ]
  },
  {
   "cell_type": "markdown",
   "id": "d21df4d3",
   "metadata": {},
   "source": [
    "### What Effect Does Traffic Type Have on Purchase Intent?"
   ]
  },
  {
   "cell_type": "code",
   "execution_count": 15,
   "id": "dd1923e7",
   "metadata": {},
   "outputs": [
    {
     "data": {
      "text/plain": [
       "Text(0, 0.5, 'Number of visits')"
      ]
     },
     "execution_count": 15,
     "metadata": {},
     "output_type": "execute_result"
    },
    {
     "data": {
      "image/png": "[encoded data removed]",
      "text/plain": [
       "<Figure size 1080x288 with 1 Axes>"
      ]
     },
     "metadata": {
      "needs_background": "light"
     },
     "output_type": "display_data"
    }
   ],
   "source": [
    "\n",
    "#plot traffic type revenue distribution\n",
    "pd.crosstab(df.TrafficType,df.Revenue).plot(kind='bar',stacked=True,figsize=(15,4))\n",
    "\n",
    "plt.title('Revenue page visit by Traffic Type')\n",
    "plt.ylabel('Number of visits')"
   ]
  },
  {
   "cell_type": "markdown",
   "id": "d1e0077b",
   "metadata": {},
   "source": [
    "Traffic type 2 contains the most purchase activities"
   ]
  },
  {
   "cell_type": "markdown",
   "id": "70bde2f5",
   "metadata": {},
   "source": [
    "## What effect does visitor type have on purchase activities"
   ]
  },
  {
   "cell_type": "code",
   "execution_count": 17,
   "id": "c5e9a427",
   "metadata": {},
   "outputs": [
    {
     "data": {
      "text/plain": [
       "Text(0, 0.5, 'Number of visits')"
      ]
     },
     "execution_count": 17,
     "metadata": {},
     "output_type": "execute_result"
    },
    {
     "data": {
      "image/png": "[encoded data removed]",
      "text/plain": [
       "<Figure size 1080x288 with 2 Axes>"
      ]
     },
     "metadata": {
      "needs_background": "light"
     },
     "output_type": "display_data"
    }
   ],
   "source": [
    "\n",
    "#plot visitor type revenue distribution\n",
    "\n",
    "fig,ax = plt.subplots(1,2,figsize=(15,4))\n",
    "pd.crosstab(df.VisitorType,df.Revenue).plot(kind='bar',stacked=True,ax=ax[0])\n",
    "ax[0].set_title('Revenue page visit by Visitor Type')\n",
    "ax[0].set_ylabel('Number of visits')\n",
    "\n",
    "pd.crosstab(df.VisitorType,df.Revenue,normalize='index').plot(kind='bar',stacked=True,ax=ax[1])\n",
    "ax[1].set_title('Revenue page visit by Visitor Type (Normalized)')\n",
    "ax[1].set_ylabel('Number of visits')"
   ]
  },
  {
   "cell_type": "markdown",
   "id": "cfc24172",
   "metadata": {},
   "source": [
    "Returning visitors are more likely to make a purchase decision than new visitors"
   ]
  },
  {
   "cell_type": "code",
   "execution_count": 18,
   "id": "4f5a42f3",
   "metadata": {},
   "outputs": [
    {
     "data": {
      "text/plain": [
       "Text(0.5, 1.0, 'Average Page Duration by Visitor Type')"
      ]
     },
     "execution_count": 18,
     "metadata": {},
     "output_type": "execute_result"
    },
    {
     "data": {
      "image/png": "[encoded data removed]",
      "text/plain": [
       "<Figure size 432x288 with 1 Axes>"
      ]
     },
     "metadata": {
      "needs_background": "light"
     },
     "output_type": "display_data"
    }
   ],
   "source": [
    "#average duration spent on different pages\n",
    "df[[\"Administrative_Duration\", \"Informational_Duration\", \"ProductRelated_Duration\",\"VisitorType\"]]\\\n",
    ".groupby('VisitorType').mean().plot(kind='barh')\n",
    "\n",
    "plt.title('Average Page Duration by Visitor Type')"
   ]
  },
  {
   "cell_type": "markdown",
   "id": "ee2e2c22",
   "metadata": {},
   "source": [
    "## Create Numeric Types"
   ]
  },
  {
   "cell_type": "code",
   "execution_count": 19,
   "id": "998295c9",
   "metadata": {},
   "outputs": [
    {
     "data": {
      "text/plain": [
       "Index(['Month', 'VisitorType', 'Weekend', 'Revenue'], dtype='object')"
      ]
     },
     "execution_count": 19,
     "metadata": {},
     "output_type": "execute_result"
    }
   ],
   "source": [
    "#find non-numeric data types\n",
    "df.select_dtypes(exclude=[int,float]).columns"
   ]
  },
  {
   "cell_type": "code",
   "execution_count": 20,
   "id": "f702e911",
   "metadata": {},
   "outputs": [
    {
     "data": {
      "text/plain": [
       "Month          int64\n",
       "VisitorType    int64\n",
       "Weekend        int64\n",
       "dtype: object"
      ]
     },
     "execution_count": 20,
     "metadata": {},
     "output_type": "execute_result"
    }
   ],
   "source": [
    "#apply mapping\n",
    "map_month = {'Feb':2,'Mar':3,'May':5,'June':6,'Jul':7,'Aug':8,'Sep':9,'Oct':10,'Nov':11,'Dec':12}\n",
    "map_visitor = {'Returning_Visitor':1, 'New_Visitor':2, 'Other':3}\n",
    "map_weekend = {True:1,False:2}\n",
    "\n",
    "df['Month'] = df['Month'].map(map_month)\n",
    "df['VisitorType'] = df['VisitorType'].map(map_visitor)\n",
    "df['Weekend'] = df['Weekend'].map(map_weekend)\n",
    "\n",
    "#verify\n",
    "df[['Month', 'VisitorType', 'Weekend']].dtypes"
   ]
  },
  {
   "cell_type": "markdown",
   "id": "481cce3f",
   "metadata": {},
   "source": [
    "## Define Target and Features"
   ]
  },
  {
   "cell_type": "code",
   "execution_count": 21,
   "id": "b387cfb9",
   "metadata": {},
   "outputs": [],
   "source": [
    "y = df.Revenue\n",
    "X = df.drop('Revenue',axis=1)"
   ]
  },
  {
   "cell_type": "markdown",
   "id": "95762b00",
   "metadata": {},
   "source": [
    "## Split Train and Test"
   ]
  },
  {
   "cell_type": "code",
   "execution_count": 22,
   "id": "fc4d4e4c",
   "metadata": {},
   "outputs": [],
   "source": [
    "from sklearn.model_selection import train_test_split\n",
    "\n",
    "X_train,X_test,y_train,y_test = train_test_split(X,y,test_size=0.3)"
   ]
  },
  {
   "cell_type": "markdown",
   "id": "8be39e4e",
   "metadata": {},
   "source": [
    "## Build KNN Model"
   ]
  },
  {
   "cell_type": "code",
   "execution_count": 23,
   "id": "c45bce3d",
   "metadata": {},
   "outputs": [],
   "source": [
    "from sklearn.preprocessing import StandardScaler\n",
    "from sklearn.neighbors import KNeighborsClassifier"
   ]
  },
  {
   "cell_type": "code",
   "execution_count": 24,
   "id": "f34484f9",
   "metadata": {},
   "outputs": [],
   "source": [
    "#apply scaling\n",
    "scaler = StandardScaler()\n",
    "\n",
    "X_train_scaled = scaler.fit_transform(X_train)\n",
    "X_train = pd.DataFrame(data=X_train_scaled,columns=X_train.columns,index=X_train.index)\n",
    "\n",
    "X_test_scaled = scaler.fit_transform(X_test)\n",
    "X_test = pd.DataFrame(data=X_test_scaled,columns=X_test.columns,index=X_test.index)"
   ]
  },
  {
   "cell_type": "code",
   "execution_count": 25,
   "id": "d16f6ec1",
   "metadata": {},
   "outputs": [],
   "source": [
    "KNN = KNeighborsClassifier()\n",
    "KNN.fit(X_train,y_train)\n",
    "preds = KNN.predict(X_test)"
   ]
  },
  {
   "cell_type": "markdown",
   "id": "8521b3bb",
   "metadata": {},
   "source": [
    "## Evaluate Model"
   ]
  },
  {
   "cell_type": "code",
   "execution_count": 35,
   "id": "144a5263",
   "metadata": {},
   "outputs": [],
   "source": [
    "from sklearn.metrics import classification_report,confusion_matrix"
   ]
  },
  {
   "cell_type": "code",
   "execution_count": 30,
   "id": "0837aea9",
   "metadata": {},
   "outputs": [
    {
     "name": "stdout",
     "output_type": "stream",
     "text": [
      "              precision    recall  f1-score   support\n",
      "\n",
      "       False       0.90      0.96      0.93      3136\n",
      "        True       0.66      0.39      0.49       563\n",
      "\n",
      "    accuracy                           0.88      3699\n",
      "   macro avg       0.78      0.68      0.71      3699\n",
      "weighted avg       0.86      0.88      0.86      3699\n",
      "\n"
     ]
    }
   ],
   "source": [
    "print(classification_report(y_test,preds))"
   ]
  },
  {
   "cell_type": "code",
   "execution_count": 33,
   "id": "6e97b207",
   "metadata": {},
   "outputs": [
    {
     "data": {
      "text/plain": [
       "<AxesSubplot:>"
      ]
     },
     "execution_count": 33,
     "metadata": {},
     "output_type": "execute_result"
    },
    {
     "data": {
      "image/png": "[encoded data removed]",
      "text/plain": [
       "<Figure size 432x288 with 2 Axes>"
      ]
     },
     "metadata": {
      "needs_background": "light"
     },
     "output_type": "display_data"
    }
   ],
   "source": [
    "sns.heatmap(confusion_matrix(y_test,preds))"
   ]
  },
  {
   "cell_type": "code",
   "execution_count": null,
   "id": "154f11ee",
   "metadata": {},
   "outputs": [],
   "source": []
  }
 ],
 "metadata": {
  "kernelspec": {
   "display_name": "Python 3 (ipykernel)",
   "language": "python",
   "name": "python3"
  },
  "language_info": {
   "codemirror_mode": {
    "name": "ipython",
    "version": 3
   },
   "file_extension": ".py",
   "mimetype": "text/x-python",
   "name": "python",
   "nbconvert_exporter": "python",
   "pygments_lexer": "ipython3",
   "version": "3.9.7"
  }
 },
 "nbformat": 4,
 "nbformat_minor": 5
}
